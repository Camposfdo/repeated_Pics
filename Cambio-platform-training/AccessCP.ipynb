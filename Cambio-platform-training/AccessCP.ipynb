{
 "cells": [
  {
   "cell_type": "code",
   "execution_count": 1,
   "metadata": {},
   "outputs": [
    {
     "ename": "NameError",
     "evalue": "name 'HTTPBasicAuth' is not defined",
     "output_type": "error",
     "traceback": [
      "\u001b[1;31m---------------------------------------------------------------------------\u001b[0m",
      "\u001b[1;31mNameError\u001b[0m                                 Traceback (most recent call last)",
      "Cell \u001b[1;32mIn[1], line 10\u001b[0m\n\u001b[0;32m      7\u001b[0m token_url \u001b[38;5;241m=\u001b[39m \u001b[38;5;124m'\u001b[39m\u001b[38;5;124mhttps://idp.sandbox.platform.cambio.se/auth/realms/cambio-platform/protocol/openid-connect/token\u001b[39m\u001b[38;5;124m'\u001b[39m\n\u001b[0;32m      9\u001b[0m \u001b[38;5;66;03m# Step 1: Request an access token using Client Credentials Flow\u001b[39;00m\n\u001b[1;32m---> 10\u001b[0m auth \u001b[38;5;241m=\u001b[39m \u001b[43mHTTPBasicAuth\u001b[49m(client_id, client_secret)\n\u001b[0;32m     11\u001b[0m data \u001b[38;5;241m=\u001b[39m {\u001b[38;5;124m'\u001b[39m\u001b[38;5;124mgrant_type\u001b[39m\u001b[38;5;124m'\u001b[39m: \u001b[38;5;124m'\u001b[39m\u001b[38;5;124mclient_credentials\u001b[39m\u001b[38;5;124m'\u001b[39m}\n\u001b[0;32m     13\u001b[0m response \u001b[38;5;241m=\u001b[39m requests\u001b[38;5;241m.\u001b[39mpost(token_url, auth\u001b[38;5;241m=\u001b[39mauth, data\u001b[38;5;241m=\u001b[39mdata)\n",
      "\u001b[1;31mNameError\u001b[0m: name 'HTTPBasicAuth' is not defined"
     ]
    }
   ],
   "source": [
    "import requests\n",
    "from requests_oauthlib import OAuth2Session\n",
    "\n",
    "# Your application's client ID and client secret\n",
    "client_id = 'persona.t03.pr0001.cu0001'\n",
    "client_secret = 'MxyWH4BkvJdURs5evdSNQ3Prq0Pl3Hl0R0xtUObKnib7QQLkzP8IiCGG5P285ZTH'\n",
    "token_url = 'https://idp.sandbox.platform.cambio.se/auth/realms/cambio-platform/protocol/openid-connect/token'\n",
    "\n",
    "# Step 1: Request an access token using Client Credentials Flow\n",
    "auth = HTTPBasicAuth(client_id, client_secret)\n",
    "data = {'grant_type': 'client_credentials'}\n",
    "\n",
    "response = requests.post(token_url, auth=auth, data=data)\n",
    "token = response.json().get('access_token')\n",
    "\n",
    "if token:\n",
    "    print(\"Access Token:\", token)\n",
    "else:\n",
    "    print(\"Failed to retrieve access token:\", response.json())\n",
    "\n",
    "# Step 2: Make an authenticated request using the access token\n",
    "api_url = 'https://api.provider.com/your_endpoint'\n",
    "headers = {'Authorization': f'Bearer {token}'}\n",
    "\n",
    "response = requests.get(api_url, headers=headers)\n",
    "print(\"Response from API:\", response.json())"
   ]
  }
 ],
 "metadata": {
  "kernelspec": {
   "display_name": "Python 3",
   "language": "python",
   "name": "python3"
  },
  "language_info": {
   "codemirror_mode": {
    "name": "ipython",
    "version": 3
   },
   "file_extension": ".py",
   "mimetype": "text/x-python",
   "name": "python",
   "nbconvert_exporter": "python",
   "pygments_lexer": "ipython3",
   "version": "3.13.0"
  }
 },
 "nbformat": 4,
 "nbformat_minor": 2
}
